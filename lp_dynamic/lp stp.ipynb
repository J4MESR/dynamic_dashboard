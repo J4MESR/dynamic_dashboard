{
 "cells": [
  {
   "cell_type": "code",
   "execution_count": 2,
   "metadata": {},
   "outputs": [],
   "source": [
    "from os import listdir\n",
    "import pandas as pd\n",
    "import numpy as np\n",
    "import pulp as p"
   ]
  },
  {
   "cell_type": "code",
   "execution_count": 11,
   "metadata": {},
   "outputs": [],
   "source": [
    "constants = {'VOMNYA5ML': 200,'VDAMO': 11.49, 'VAMMO': 0.0, 'VDYNASYLAN1146': 0.0, 'VGF80': 0.0,\n",
    "                   'VGF31': 0.0, 'VALINK15': 0.0, 'VHAKUENKACCRS': 600.0, 'VPOLSHI7C': 91.48, 'STPE10': 0.0, 'VSHI4BTF': 182.96,\n",
    "                   'VXL10': 50.0, 'XTITAN2': 10.0, 'VDIDPBULK': 22.5, 'VDINCH': 0.0, 'VDESMOPHEN1111': 0.0, 'VCAT850': 2.5}\n",
    "\n",
    "rms = ['VOMNYA5ML', 'VCRAYVALLACSLT', 'VDAMO', 'VAMMO', 'VDYNASYLAN1146', 'VGF80', 'VGF31', 'VALINK15', 'VHAKUENKACCRS', \n",
    "       'VPOLSHI7C', 'STPE10', 'VSHI4BTF', 'VXL10', 'XTITAN2', 'XDINPBULK', 'VDIDPBULK', 'VDINCH', 'VDESMOPHEN1111', 'VCAT850']\n",
    "\n",
    "costs = {'VOMNYA5ML': 0.15, 'VCRAYVALLACSLT': 7.35, 'VDAMO': 7.435, 'VAMMO': 5.148, 'VDYNASYLAN1146': 16.443, 'VGF80': 8.76,\n",
    "         'VGF31': 5.217, 'VALINK15': 36.087, 'VHAKUENKACCRS': 0.589, 'VPOLSHI7C': 2.983, 'STPE10': 4.217, 'VSHI4BTF': 2.504,\n",
    "         'VXL10': 2.8, 'XTITAN2': 2.35, 'XDINPBULK': 0.926, 'VDIDPBULK': 1.539, 'VDINCH': 1.84, 'VDESMOPHEN1111': 2.15, 'VCAT850': 21.4}\n",
    "\n",
    "decision_variables = ['XDINPBULK', 'VCRAYVALLACSLT']\n",
    "\n",
    "decision_vars = p.LpVariable.dicts('decision',decision_variables,lowBound=0,cat='Continuous')"
   ]
  },
  {
   "cell_type": "code",
   "execution_count": 27,
   "metadata": {},
   "outputs": [
    {
     "name": "stdout",
     "output_type": "stream",
     "text": [
      "19.446\n",
      "decision_VCRAYVALLACSLT = 0.0\n",
      "decision_XDINPBULK = 21.0\n"
     ]
    },
    {
     "data": {
      "text/plain": [
       "1.234064357806247"
      ]
     },
     "execution_count": 27,
     "metadata": {},
     "output_type": "execute_result"
    }
   ],
   "source": [
    "problem = p.LpProblem('dynamic_formulation_problem', p.LpMinimize)\n",
    "problem += p.lpSum([costs[i]*decision_vars[i] for i in decision_variables])\n",
    "problem += 1.2*decision_vars['VCRAYVALLACSLT'] + 2*decision_vars['XDINPBULK'] == 42\n",
    "problem += decision_vars['VCRAYVALLACSLT'] <= 300\n",
    "problem += decision_vars['XDINPBULK'] <= 250\n",
    "\n",
    "#print(problem)\n",
    "problem.solve()\n",
    "print(p.value(problem.objective))\n",
    "\n",
    "for v in problem.variables():\n",
    "    print(v.name, \"=\", v.varValue)\n",
    "\n",
    "\n",
    "total_cost = p.value(problem.objective) + sum([constants[i]*costs[i] for i in constants])\n",
    "total_mass = sum([v.varValue for v in problem.variables()]) + sum(constants.values())\n",
    "cost_per_unit = total_cost/total_mass\n",
    "cost_per_unit"
   ]
  },
  {
   "cell_type": "code",
   "execution_count": 20,
   "metadata": {},
   "outputs": [
    {
     "ename": "NameError",
     "evalue": "name 'decision_VCRAYVALLACSLT' is not defined",
     "output_type": "error",
     "traceback": [
      "\u001b[0;31m---------------------------------------------------------------------------\u001b[0m",
      "\u001b[0;31mNameError\u001b[0m                                 Traceback (most recent call last)",
      "\u001b[0;32m<ipython-input-20-9de57fb490e2>\u001b[0m in \u001b[0;36m<module>\u001b[0;34m\u001b[0m\n\u001b[0;32m----> 1\u001b[0;31m \u001b[0mdecision_VCRAYVALLACSLT\u001b[0m\u001b[0;34m\u001b[0m\u001b[0;34m\u001b[0m\u001b[0m\n\u001b[0m",
      "\u001b[0;31mNameError\u001b[0m: name 'decision_VCRAYVALLACSLT' is not defined"
     ]
    }
   ],
   "source": [
    "[problem.variables()]"
   ]
  },
  {
   "cell_type": "code",
   "execution_count": 10,
   "metadata": {},
   "outputs": [
    {
     "ename": "KeyError",
     "evalue": "'VOMNYA5ML'",
     "output_type": "error",
     "traceback": [
      "\u001b[0;31m---------------------------------------------------------------------------\u001b[0m",
      "\u001b[0;31mKeyError\u001b[0m                                  Traceback (most recent call last)",
      "\u001b[0;32m<ipython-input-10-fea1af6b52ea>\u001b[0m in \u001b[0;36m<module>\u001b[0;34m\u001b[0m\n\u001b[1;32m     45\u001b[0m \u001b[0;31m### Objective Function ###\u001b[0m\u001b[0;34m\u001b[0m\u001b[0;34m\u001b[0m\u001b[0;34m\u001b[0m\u001b[0m\n\u001b[1;32m     46\u001b[0m \u001b[0;34m\u001b[0m\u001b[0m\n\u001b[0;32m---> 47\u001b[0;31m \u001b[0mproblem\u001b[0m \u001b[0;34m+=\u001b[0m \u001b[0mp\u001b[0m\u001b[0;34m.\u001b[0m\u001b[0mlpSum\u001b[0m\u001b[0;34m(\u001b[0m\u001b[0;34m[\u001b[0m\u001b[0mcosts\u001b[0m\u001b[0;34m[\u001b[0m\u001b[0mi\u001b[0m\u001b[0;34m]\u001b[0m\u001b[0;34m*\u001b[0m\u001b[0mstd_formulation\u001b[0m\u001b[0;34m[\u001b[0m\u001b[0mi\u001b[0m\u001b[0;34m]\u001b[0m \u001b[0;32mfor\u001b[0m \u001b[0mi\u001b[0m \u001b[0;32min\u001b[0m \u001b[0mrms\u001b[0m\u001b[0;34m]\u001b[0m\u001b[0;34m)\u001b[0m\u001b[0;34m\u001b[0m\u001b[0;34m\u001b[0m\u001b[0m\n\u001b[0m\u001b[1;32m     48\u001b[0m \u001b[0mprint\u001b[0m\u001b[0;34m(\u001b[0m\u001b[0mproblem\u001b[0m\u001b[0;34m)\u001b[0m\u001b[0;34m\u001b[0m\u001b[0;34m\u001b[0m\u001b[0m\n\u001b[1;32m     49\u001b[0m \u001b[0;31m# problem.solve()\u001b[0m\u001b[0;34m\u001b[0m\u001b[0;34m\u001b[0m\u001b[0;34m\u001b[0m\u001b[0m\n",
      "\u001b[0;32m<ipython-input-10-fea1af6b52ea>\u001b[0m in \u001b[0;36m<listcomp>\u001b[0;34m(.0)\u001b[0m\n\u001b[1;32m     45\u001b[0m \u001b[0;31m### Objective Function ###\u001b[0m\u001b[0;34m\u001b[0m\u001b[0;34m\u001b[0m\u001b[0;34m\u001b[0m\u001b[0m\n\u001b[1;32m     46\u001b[0m \u001b[0;34m\u001b[0m\u001b[0m\n\u001b[0;32m---> 47\u001b[0;31m \u001b[0mproblem\u001b[0m \u001b[0;34m+=\u001b[0m \u001b[0mp\u001b[0m\u001b[0;34m.\u001b[0m\u001b[0mlpSum\u001b[0m\u001b[0;34m(\u001b[0m\u001b[0;34m[\u001b[0m\u001b[0mcosts\u001b[0m\u001b[0;34m[\u001b[0m\u001b[0mi\u001b[0m\u001b[0;34m]\u001b[0m\u001b[0;34m*\u001b[0m\u001b[0mstd_formulation\u001b[0m\u001b[0;34m[\u001b[0m\u001b[0mi\u001b[0m\u001b[0;34m]\u001b[0m \u001b[0;32mfor\u001b[0m \u001b[0mi\u001b[0m \u001b[0;32min\u001b[0m \u001b[0mrms\u001b[0m\u001b[0;34m]\u001b[0m\u001b[0;34m)\u001b[0m\u001b[0;34m\u001b[0m\u001b[0;34m\u001b[0m\u001b[0m\n\u001b[0m\u001b[1;32m     48\u001b[0m \u001b[0mprint\u001b[0m\u001b[0;34m(\u001b[0m\u001b[0mproblem\u001b[0m\u001b[0;34m)\u001b[0m\u001b[0;34m\u001b[0m\u001b[0;34m\u001b[0m\u001b[0m\n\u001b[1;32m     49\u001b[0m \u001b[0;31m# problem.solve()\u001b[0m\u001b[0;34m\u001b[0m\u001b[0;34m\u001b[0m\u001b[0;34m\u001b[0m\u001b[0m\n",
      "\u001b[0;31mKeyError\u001b[0m: 'VOMNYA5ML'"
     ]
    }
   ],
   "source": [
    "# ### Variables ###\n",
    "\n",
    "# stp_rms_XDINPBULK = p.LpVariable('XDINPBULK', lowBound=0 , cat='Continuous')\n",
    "# stp_rms_VCRAYVALLACSLT = p.LpVariable('VCRAYVALLACSLT', lowBound=0 , cat='Continuous')\n",
    "# # stp_rms_VOMNYA5ML = p.LpVariable('VOMNYA5ML', lowBound=0 , cat='Continuous')\n",
    "# # stp_rms_VDAMO = p.LpVariable('VDAMO', lowBound=0 , cat='Continuous')\n",
    "# # stp_rms_VAMMO = p.LpVariable('VAMMO', lowBound=0 , cat='Continuous')\n",
    "# # stp_rms_VDYNASYLAN1146 = p.LpVariable('VDYNASYLAN1146', lowBound=0 , cat='Continuous')\n",
    "# # stp_rms_VGF80 = p.LpVariable('VGF80', lowBound=0 , cat='Continuous')\n",
    "# # stp_rms_VGF31 = p.LpVariable('VGF31', lowBound=0 , cat='Continuous')\n",
    "# # stp_rms_VALINK15  = p.LpVariable('VALINK15', lowBound=0 , cat='Continuous')\n",
    "# # stp_rms_VHAKUENKACCRS = p.LpVariable('VHAKUENKACCRS', lowBound=0 , cat='Continuous')\n",
    "# # stp_rms_VPOLSHI7C = p.LpVariable('VPOLSHI7C', lowBound=0 , cat='Continuous')\n",
    "# # stp_rms_STPE10 = p.LpVariable('STPE10', lowBound=0 , cat='Continuous')\n",
    "# # stp_rms_VSHI4BTF = p.LpVariable('VSHI4BTF', lowBound=0 , cat='Continuous')\n",
    "# # stp_rms_VXL10 = p.LpVariable('VXL10', lowBound=0 , cat='Continuous')\n",
    "# # stp_rms_XTITAN2 = p.LpVariable('XTITAN2', lowBound=0 , cat='Continuous')\n",
    "# # stp_rms_VDIDPBULK = p.LpVariable('VDIDPBULK', lowBound=0 , cat='Continuous')\n",
    "# # stp_rms_VDINCH = p.LpVariable('VDINCH', lowBound=0 , cat='Continuous')\n",
    "# # stp_rms_VDESMOPHEN1111 = p.LpVariable('VDESMOPHEN1111', lowBound=0 , cat='Continuous')\n",
    "# # stp_rms_VCAT850 = p.LpVariable('VCAT850', lowBound=0 , cat='Continuous')\n",
    "\n",
    "# ### Constraints ###\n",
    "# problem += stp_rms_VOMNYA5ML == 200\n",
    "# stp_rms_VDAMO = 11.49\n",
    "# stp_rms_VAMMO = 0\n",
    "# stp_rms_VDYNASYLAN1146 = 0\n",
    "# stp_rms_VGF80 = 0\n",
    "# stp_rms_VGF31 = 0\n",
    "# stp_rms_VALINK15 = 0\n",
    "# stp_rms_VHAKUENKACCRS = 600\n",
    "# stp_rms_VPOLSHI7C = 91.48\n",
    "# stp_rms_STPE10 = 0\n",
    "# stp_rms_VSHI4BTF = 182.96\n",
    "# stp_rms_VXL10 = 50\n",
    "# stp_rms_XTITAN2 = 10\n",
    "# stp_rms_VDIDPBULK = 22.5\n",
    "# stp_rms_VDINCH = 0\n",
    "# stp_rms_VDESMOPHEN1111 = 0\n",
    "# stp_rms_VCAT850 = 2.5\n",
    "\n",
    "# problem = p.LpProblem('dynamic_formulation_problem', p.LpMinimize)\n",
    "# problem += 1.2*stp_rms_XDINPBULK + 2*stp_rms_VCRAYVALLACSLT\n",
    "\n",
    "# ### Objective Function ###\n",
    "\n",
    "# problem += p.lpSum([costs[i]*std_formulation[i] for i in rms])\n",
    "# print(problem)\n",
    "# # problem.solve()\n",
    "# # print(p.value(problem.objective))\n",
    "# # print(problem)"
   ]
  }
 ],
 "metadata": {
  "kernelspec": {
   "display_name": "Python 3",
   "language": "python",
   "name": "python3"
  },
  "language_info": {
   "codemirror_mode": {
    "name": "ipython",
    "version": 3
   },
   "file_extension": ".py",
   "mimetype": "text/x-python",
   "name": "python",
   "nbconvert_exporter": "python",
   "pygments_lexer": "ipython3",
   "version": "3.7.9"
  }
 },
 "nbformat": 4,
 "nbformat_minor": 4
}
